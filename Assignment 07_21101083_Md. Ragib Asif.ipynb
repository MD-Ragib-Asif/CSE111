{
 "cells": [
  {
   "cell_type": "code",
   "execution_count": 6,
   "metadata": {
    "colab": {
     "base_uri": "https://localhost:8080/",
     "height": 356
    },
    "id": "qzUtPZHIc8xl",
    "outputId": "fd812692-69a0-49c4-c952-212aa4a1aacd"
   },
   "outputs": [
    {
     "name": "stdout",
     "output_type": "stream",
     "text": [
      "Name: Default Department: BBA\n",
      "Name: Humpty Dumpty Department: BBA\n",
      "Name: Little Bo Peep Department: BBA\n"
     ]
    }
   ],
   "source": [
    "#task 1\n",
    "\n",
    "class Student:\n",
    "    def __init__(self, name='Just a student', dept='nothing'):\n",
    "        self.__name = name\n",
    "        self.__department = dept\n",
    "        \n",
    "    def set_department(self, dept):\n",
    "        self.__department = dept\n",
    "        \n",
    "    def get_name(self):\n",
    "        return self.__name\n",
    "    \n",
    "    def set_name(self,name):\n",
    "        self.__name = name\n",
    "        \n",
    "    def __str__(self):\n",
    "        return 'Name: '+self.get_name()+' Department: '+self.__department\n",
    "\n",
    "#write your code here\n",
    "class BBA_Student(Student):\n",
    "    def __init__(self, name='Default', dept='BBA'):\n",
    "        super().__init__(name, dept)\n",
    "\n",
    "\n",
    "#=================================================\n",
    "\n",
    "print(BBA_Student())\n",
    "print(BBA_Student('Humpty Dumpty'))\n",
    "print(BBA_Student('Little Bo Peep'))"
   ]
  },
  {
   "cell_type": "code",
   "execution_count": 2,
   "metadata": {
    "colab": {
     "base_uri": "https://localhost:8080/"
    },
    "id": "qgX9-IDeeMQH",
    "outputId": "3a51177a-7aab-48e0-8ba5-8b811cd5c217"
   },
   "outputs": [
    {
     "name": "stdout",
     "output_type": "stream",
     "text": [
      "Part 1\n",
      "------\n",
      "(0 , 0)\n",
      "(0 , 1)\n",
      "(-1 , 1)\n",
      "(-1 , 0)\n",
      "(0 , 0)\n",
      "------\n",
      "Part 2\n",
      "------\n",
      "(0 , 0)\n",
      "(-1 , -1)\n",
      "False\n",
      "True\n"
     ]
    }
   ],
   "source": [
    "#task 2\n",
    "class Vehicle:\n",
    "    def __init__(self):\n",
    "        self.x = 0\n",
    "        self.y = 0\n",
    "    def moveUp(self):\n",
    "        self.y+=1\n",
    "    def moveDown(self):\n",
    "        self.y-=1\n",
    "    def moveRight(self):\n",
    "        self.x+=1\n",
    "    def moveLeft(self):\n",
    "        self.x-=1\n",
    "    def __str__(self):\n",
    "        return '('+str(self.x)+' , '+str(self.y)+')'\n",
    "\n",
    "#write your code here\n",
    "\n",
    "class Vehicle2010(Vehicle):\n",
    "    def moveLowerLeft(self):\n",
    "        super().moveDown()\n",
    "        super().moveLeft()\n",
    "\n",
    "    def equals(self, other):\n",
    "        return self.x == other.x and self.y == other.y\n",
    "#======================================================================\n",
    "\n",
    "print('Part 1')\n",
    "print('------')\n",
    "car = Vehicle()\n",
    "print(car)\n",
    "car.moveUp()\n",
    "print(car)\n",
    "car.moveLeft()\n",
    "print(car)\n",
    "car.moveDown()\n",
    "print(car)\n",
    "car.moveRight()\n",
    "print(car)\n",
    "print('------')\n",
    "print('Part 2')\n",
    "print('------')\n",
    "car1 = Vehicle2010()\n",
    "print(car1)\n",
    "car1.moveLowerLeft()\n",
    "print(car1)\n",
    "car2 = Vehicle2010()\n",
    "car2.moveLeft()\n",
    "print(car1.equals(car2))\n",
    "car2.moveDown()\n",
    "print(car1.equals(car2))"
   ]
  },
  {
   "cell_type": "code",
   "execution_count": 3,
   "metadata": {
    "colab": {
     "base_uri": "https://localhost:8080/"
    },
    "id": "hG2K95uRea8f",
    "outputId": "47ec6346-00f9-4942-f971-42284cf2fe26"
   },
   "outputs": [
    {
     "name": "stdout",
     "output_type": "stream",
     "text": [
      "Cricket Tournament Name: default \n",
      "Number of Teams: 0 \n",
      "Type: No type\n",
      "-----------------------\n",
      "Cricket Tournament Name: IPL \n",
      "Number of Teams: 10 \n",
      "Type: t20\n",
      "-----------------------\n",
      "Tennis Tournament Name: Roland Garros \n",
      "Number of Teams: 128\n"
     ]
    }
   ],
   "source": [
    "#task 3\n",
    "class Tournament:\n",
    "    def __init__(self,name='Default'):\n",
    "        self.__name = name\n",
    "    def set_name(self,name):\n",
    "        self.__name = name\n",
    "    def get_name(self):\n",
    "        return self.__name\n",
    "\n",
    "#write your code here\n",
    "\n",
    "class Cricket_Tournament(Tournament):\n",
    "    def __init__(self, name= \"default\", nTeams = 0, nType = \"No type\"):\n",
    "        super().__init__(name)\n",
    "        self.teams = nTeams\n",
    "        self.type = nType\n",
    "\n",
    "    def detail(self):\n",
    "        return f'Cricket Tournament Name: {super().get_name()} \\nNumber of Teams: {self.teams} \\nType: {self.type}'\n",
    "\n",
    "class Tennis_Tournament(Tournament):\n",
    "    def __init__(self, name, nTeams):\n",
    "        super().__init__(name)\n",
    "        self.teams = nTeams\n",
    "\n",
    "    def detail(self):\n",
    "        return f'Tennis Tournament Name: {super().get_name()} \\nNumber of Teams: {self.teams}'\n",
    "\n",
    "#======================================================================\n",
    "\n",
    "ct1 = Cricket_Tournament()\n",
    "print(ct1.detail())\n",
    "print(\"-----------------------\")\n",
    "ct2 = Cricket_Tournament(\"IPL\",10,\"t20\")\n",
    "print(ct2.detail())\n",
    "print(\"-----------------------\")\n",
    "tt = Tennis_Tournament(\"Roland Garros\",128)\n",
    "print(tt.detail())\n"
   ]
  },
  {
   "cell_type": "code",
   "execution_count": 11,
   "metadata": {
    "id": "NxNQ9XQ9elC1",
    "scrolled": true
   },
   "outputs": [
    {
     "name": "stdout",
     "output_type": "stream",
     "text": [
      "ID: 1 Title:The AlchemistPrice: 500\n",
      "ISBN: 97806 Publisher: HarperCollins\n",
      "-----------------------\n",
      "ID: 2 Title:ShottoPrice: 300\n",
      "Band: Warfaze Duration: 50minutes \n",
      "Genre: Hard Rock\n"
     ]
    }
   ],
   "source": [
    "#task 4\n",
    "class Product:\n",
    "    def __init__(self,id, title, price):\n",
    "        self.__id = id\n",
    "        self. __title = title\n",
    "        self. __price = price\n",
    "    def get_id_title_price(self):\n",
    "        return \"ID: \"+str(self.__id)+\" Title:\"+self.__title+ \"Price: \"+str(self.__price)\n",
    "\n",
    "#write your code here\n",
    "class Book(Product):\n",
    "    def __init__(self, id, title, price, isbn, publisher):\n",
    "        super().__init__(id, title, price)\n",
    "        self.isbn = isbn\n",
    "        self.pub = publisher\n",
    "        \n",
    "    def printDetail(self):\n",
    "        return super().get_id_title_price() + f'\\nISBN: {self.isbn} Publisher: {self.pub}'\n",
    "        \n",
    "    \n",
    "class CD(Product):\n",
    "    def __init__(self, id, title, price, band, duration, genre):\n",
    "        super().__init__(id, title, price)\n",
    "        self.band = band\n",
    "        self.duration = duration\n",
    "        self.genre = genre\n",
    "        \n",
    "    def printDetail(self):\n",
    "        return super().get_id_title_price() + f'\\nBand: {self.band} Duration: {self.duration}minutes \\nGenre: {self.genre}'\n",
    "\n",
    "#=========================================================\n",
    "\n",
    "book = Book(1,\"The Alchemist\",500,\"97806\",\"HarperCollins\")\n",
    "print(book.printDetail())\n",
    "print(\"-----------------------\")\n",
    "cd = CD(2,\"Shotto\",300,\"Warfaze\",50,\"Hard Rock\")\n",
    "print(cd.printDetail())"
   ]
  },
  {
   "cell_type": "code",
   "execution_count": 14,
   "metadata": {
    "id": "S6IqXru4fLqp"
   },
   "outputs": [
    {
     "name": "stdout",
     "output_type": "stream",
     "text": [
      "Animal does not make sound\n",
      "meow\n",
      "bark\n"
     ]
    }
   ],
   "source": [
    "#task 5\n",
    "class Animal:\n",
    "    def __init__(self,sound):\n",
    "        self.__sound = sound\n",
    "    def makeSound(self):\n",
    "        return self.__sound\n",
    "\n",
    "class Printer:\n",
    "    def printSound(self, a):\n",
    "        print(a.makeSound())\n",
    "\n",
    "#write your code here\n",
    "class Dog(Animal):\n",
    "    pass\n",
    "\n",
    "class Cat(Animal):\n",
    "    pass\n",
    "\n",
    "\n",
    "#================================================================\n",
    "\n",
    "d1 = Dog('bark')\n",
    "c1 = Cat('meow')\n",
    "a1 = Animal('Animal does not make sound')\n",
    "pr = Printer()\n",
    "pr.printSound(a1)\n",
    "pr.printSound(c1)\n",
    "pr.printSound(d1)"
   ]
  },
  {
   "cell_type": "code",
   "execution_count": 24,
   "metadata": {
    "id": "UHV7emgvffli"
   },
   "outputs": [
    {
     "name": "stdout",
     "output_type": "stream",
     "text": [
      "Shape name: Default \n",
      "Height: 0, Base: 0 \n",
      "Area: 0.0\n",
      "--------------------------\n",
      "Shape name: Triangle \n",
      "Height: 10, Base: 5 \n",
      "Area: 25.0\n",
      "---------------------------\n",
      "Shape name: Trapezoid \n",
      "Height: 10, Base: 6, Side_A: 4 \n",
      "Area: 50.0\n"
     ]
    }
   ],
   "source": [
    "#task 6\n",
    "class Shape:\n",
    "    def __init__(self, name='Default', height=0, base=0):\n",
    "        self.area = 0\n",
    "        self.name = name\n",
    "        self.height = height\n",
    "        self.base = base\n",
    "    def get_height_base(self):\n",
    "        return \"Height: \"+str(self.height)+\",Base: \"+str(self.base)\n",
    "\n",
    "#write your code here\n",
    "class triangle(Shape):\n",
    "    def calcArea(self):\n",
    "        Area = 0.5 * self.height * self.base\n",
    "        self.area = Area\n",
    "        \n",
    "    def printDetail(self):\n",
    "        return f'Shape name: {self.name} \\nHeight: {self.height}, Base: {self.base} \\nArea: {self.area}'\n",
    "    \n",
    "class trapezoid(Shape):\n",
    "    def __init__(self, name, height, base, side):\n",
    "        super().__init__(name, height, base)\n",
    "        self.side = side\n",
    "        \n",
    "    \n",
    "    def calcArea(self):\n",
    "        Area = (0.5 * (self.side + self.base)) * self.height\n",
    "        self.area = Area\n",
    "        \n",
    "    def printDetail(self):\n",
    "        return f'Shape name: {self.name} \\nHeight: {self.height}, Base: {self.base}, Side_A: {self.side} \\nArea: {self.area}'\n",
    "    \n",
    "\n",
    "#==============================================================\n",
    "\n",
    "tri_default = triangle()\n",
    "tri_default.calcArea()\n",
    "print(tri_default.printDetail())\n",
    "print('--------------------------')\n",
    "tri = triangle('Triangle', 10, 5)\n",
    "tri.calcArea()\n",
    "print(tri.printDetail())\n",
    "print('---------------------------')\n",
    "trap = trapezoid('Trapezoid', 10, 6, 4)\n",
    "trap.calcArea()\n",
    "print(trap.printDetail())"
   ]
  },
  {
   "cell_type": "code",
   "execution_count": 38,
   "metadata": {
    "id": "3Tcx7vNhfrkf"
   },
   "outputs": [
    {
     "name": "stdout",
     "output_type": "stream",
     "text": [
      "Name: Ronaldo, Team Name: Juventus\n",
      "Team Role: Striker \n",
      "Total Goal: 25, Total Played: 32 \n",
      "Goal Ratio: 0.78125 \n",
      "Match Earning: 25320k\n",
      "------------------------------------------\n",
      "Name: Zidane, Team Name: Real Madrid\n",
      "Team Role: Manager \n",
      "Total Win: 25 \n",
      "Match Earning: 25000k\n"
     ]
    }
   ],
   "source": [
    "#task 7\n",
    "class Football:\n",
    "    def __init__(self, team_name, name, role):\n",
    "        self.__team = team_name\n",
    "        self.__name = name\n",
    "        self.role = role\n",
    "        self.earning_per_match = 0\n",
    "    def get_name_team(self):\n",
    "        return 'Name: '+self.__name+', Team Name: ' +self.__team\n",
    "\n",
    "#write your code here\n",
    "class Player(Football):\n",
    "    def __init__(self, team_name, name, role, goal, match):\n",
    "        super().__init__(team_name, name, role)\n",
    "        self.total_goal = goal\n",
    "        self.total_match = match\n",
    "        \n",
    "    def calculate_ratio(self):\n",
    "        earning  = (self.total_goal * 1000) + (self.total_match * 10)\n",
    "        ratio = self.total_goal / self.total_match\n",
    "        self.ratio = ratio\n",
    "        self.earning_per_match = earning\n",
    "        \n",
    "    def print_details(self):\n",
    "        print(super().get_name_team() + f'\\nTeam Role: {self.role} \\nTotal Goal: {self.total_goal}, Total Played: {self.total_match} \\nGoal Ratio: {self.ratio} \\nMatch Earning: {self.earning_per_match}k')\n",
    "\n",
    "class Manager(Football):\n",
    "    def __init__(self, team_name, name, role, win):\n",
    "        super().__init__(team_name, name, role)\n",
    "        self.win = win\n",
    "        \n",
    "        \n",
    "    def print_details(self):\n",
    "        earning  = self.win * 1000\n",
    "        self.earning_per_match = earning\n",
    "        print(super().get_name_team() + f'\\nTeam Role: {self.role} \\nTotal Win: {self.win} \\nMatch Earning: {self.earning_per_match}k')\n",
    "\n",
    "\n",
    "\n",
    "#===============================================================\n",
    "\n",
    "player_one = Player('Juventus', 'Ronaldo', 'Striker', 25, 32)\n",
    "player_one.calculate_ratio()\n",
    "player_one.print_details()\n",
    "print('------------------------------------------')\n",
    "manager_one = Manager('Real Madrid', 'Zidane', 'Manager', 25)\n",
    "manager_one.print_details()"
   ]
  }
 ],
 "metadata": {
  "colab": {
   "collapsed_sections": [],
   "name": "Assignment 7.ipynb",
   "provenance": []
  },
  "kernelspec": {
   "display_name": "Python 3 (ipykernel)",
   "language": "python",
   "name": "python3"
  },
  "language_info": {
   "codemirror_mode": {
    "name": "ipython",
    "version": 3
   },
   "file_extension": ".py",
   "mimetype": "text/x-python",
   "name": "python",
   "nbconvert_exporter": "python",
   "pygments_lexer": "ipython3",
   "version": "3.10.0"
  }
 },
 "nbformat": 4,
 "nbformat_minor": 1
}
