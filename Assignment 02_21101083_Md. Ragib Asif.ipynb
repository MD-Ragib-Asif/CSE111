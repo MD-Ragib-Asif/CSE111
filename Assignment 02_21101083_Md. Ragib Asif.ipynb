{
 "cells": [
  {
   "cell_type": "markdown",
   "id": "6c405d2a",
   "metadata": {},
   "source": [
    " **FUNCTION**"
   ]
  },
  {
   "cell_type": "code",
   "execution_count": 5,
   "id": "13fc6dda",
   "metadata": {},
   "outputs": [
    {
     "name": "stdout",
     "output_type": "stream",
     "text": [
      "Plese enter first number: 5\n",
      "Please enter second number: 2\n"
     ]
    },
    {
     "data": {
      "text/plain": [
       "0.5"
      ]
     },
     "execution_count": 5,
     "metadata": {},
     "output_type": "execute_result"
    }
   ],
   "source": [
    "# task 1\n",
    "a=int(input(\"Plese enter first number: \"))\n",
    "b=int(input(\"Please enter second number: \"))\n",
    "\n",
    "def frac(n1,n2):\n",
    "    if n1==0 or n2==0:\n",
    "        return 0\n",
    "    else:\n",
    "        div=n1/n2\n",
    "        fdiv=n1//n2\n",
    "        final=div-fdiv\n",
    "    return final\n",
    "\n",
    "frac(a,b)"
   ]
  },
  {
   "cell_type": "code",
   "execution_count": 8,
   "id": "c08e3034",
   "metadata": {},
   "outputs": [
    {
     "name": "stdout",
     "output_type": "stream",
     "text": [
      "Your weight in kg: (175,96)\n",
      "Score is 31.3. Your are Obese\n"
     ]
    }
   ],
   "source": [
    "# task 2\n",
    "def bmi(N):\n",
    "    h, w = N\n",
    "    m=h/100\n",
    "    m2=m ** 2\n",
    "    result=w/m2\n",
    "    if result<18.5:\n",
    "        condition=\"Underwight\"\n",
    "    elif 18.5<=result<=24.9:\n",
    "        condition=\"Normal\"\n",
    "    elif 25<=result<=30:\n",
    "        condition=\"Overweight\"\n",
    "    else:\n",
    "        condition=\"Obese\"\n",
    "    \n",
    "    print(\"Score is {}. Your are {}\".format(format(result, \".1f\"), condition))\n",
    "    \n",
    "\n",
    "N1=input(\"Your weight in kg: \")\n",
    "N2=[float(x) for x in N1.strip(\"()\").split(\",\")]\n",
    "\n",
    "bmi(N2)"
   ]
  },
  {
   "cell_type": "code",
   "execution_count": 10,
   "id": "15e4bbdb",
   "metadata": {},
   "outputs": [
    {
     "name": "stdout",
     "output_type": "stream",
     "text": [
      "Enter 3 arguments: (3,16,3)\n",
      "[3, 16, 3]\n",
      "45\n"
     ]
    }
   ],
   "source": [
    "# task 3\n",
    "def function(N):\n",
    "    a,b,c=N\n",
    "    total=0\n",
    "    for i in range(a,b):\n",
    "        if i%c==0:\n",
    "            total+=i\n",
    "            \n",
    "    return total\n",
    "\n",
    "N1=input(\"Enter 3 arguments: \")\n",
    "N2=[int(x) for x in N1.strip(\"()\").split(\",\")]\n",
    "\n",
    "print(N2)\n",
    "value=function(N2)\n",
    "print(value)"
   ]
  },
  {
   "cell_type": "code",
   "execution_count": 12,
   "id": "603ca426",
   "metadata": {},
   "outputs": [
    {
     "name": "stdout",
     "output_type": "stream",
     "text": [
      "Enter food name: Beef Burger\n",
      "Enter location if not Mohakhali: \n",
      "223.6\n"
     ]
    }
   ],
   "source": [
    "# task 4\n",
    "def foodpanda(burger, place=\"\"):\n",
    "    if burger==\"BBQ Chicken Cheese Burger\":\n",
    "        price=250\n",
    "    elif burger==\"Beef Burger\":\n",
    "        price=170\n",
    "    elif burger==\"Naga Drums\":\n",
    "        price=200\n",
    "        \n",
    "    numb=price+price*.08\n",
    "    if place!=\"\":\n",
    "        total=numb+60\n",
    "    else:\n",
    "        total=numb+40\n",
    "    print(total)\n",
    "\n",
    "a=input(\"Enter food name: \")\n",
    "b=input(\"Enter location if not Mohakhali: \")\n",
    "\n",
    "foodpanda(a,b)"
   ]
  },
  {
   "cell_type": "code",
   "execution_count": 13,
   "id": "dfa4b895",
   "metadata": {},
   "outputs": [
    {
     "name": "stdout",
     "output_type": "stream",
     "text": [
      "(bob@sheba.xyz, sheba.xyz)\n",
      "['bob@sheba.xyz', ' sheba.xyz']\n",
      "bob@sheba.xyz\n"
     ]
    }
   ],
   "source": [
    "# task 5\n",
    "def replace_domain(address,new,old=\"\"):\n",
    "    n=len(old)\n",
    "    #address=address0.strip(\"''\")\n",
    "    empty_string=\"\"\n",
    "    if old==\"\":\n",
    "        empty_string+=address\n",
    "        print(empty_string)\n",
    "    else:\n",
    "        temp=address.split(\"@\")\n",
    "        empty_string+=temp[0]+\"@\"+new.strip()\n",
    "        print(empty_string)\n",
    "\n",
    "        \n",
    "N1=input()\n",
    "N2=[x for x in N1.strip(\"()\").split(\",\")]\n",
    "print(N2)\n",
    "for i in N2:\n",
    "    if len(N2)==2:\n",
    "        a,b=N2\n",
    "        c=\"\"\n",
    "    elif len(N2)==3:\n",
    "        a,b,c=N2\n",
    "\n",
    "replace_domain(a,b,c)"
   ]
  },
  {
   "cell_type": "code",
   "execution_count": 16,
   "id": "d96d67f2",
   "metadata": {},
   "outputs": [
    {
     "name": "stdout",
     "output_type": "stream",
     "text": [
      "Steve Jobs\n",
      "Vowels: e, e, o. Total number of vowels: 3\n"
     ]
    }
   ],
   "source": [
    "# task 6\n",
    "def vowel(N):\n",
    "    a=N\n",
    "    v_lst=\"AEIOUaeiou\"\n",
    "    lst=[]\n",
    "    count=0\n",
    "    for i in a:\n",
    "        if i in v_lst:\n",
    "            count+=1\n",
    "            lst.append(i)\n",
    "    if count==0:\n",
    "        print(\"No vowels in the name\")\n",
    "    else:\n",
    "        str1=''\n",
    "        for char in range(len(lst)-1):\n",
    "            str1=str1+lst[char]+\", \"\n",
    "        str2=str1+lst[-1]\n",
    "        print(\"Vowels: {}. Total number of vowels: {}\".format(str2,count))\n",
    "\n",
    "N1=input()\n",
    "N2=[x for x in N1.strip(\"()\")]\n",
    "\n",
    "vowel(N2)"
   ]
  },
  {
   "cell_type": "code",
   "execution_count": 19,
   "id": "7bf6a645",
   "metadata": {},
   "outputs": [
    {
     "name": "stdout",
     "output_type": "stream",
     "text": [
      "Enter a string: nurses run\n",
      "Palindrome\n"
     ]
    }
   ],
   "source": [
    "# task 7\n",
    "def palindrome(N):\n",
    "    remove=\"' '\"\n",
    "    new_str=\"\"\n",
    "    for char in N:\n",
    "        if char not in remove:\n",
    "            new_str+=char\n",
    "    \n",
    "    if new_str==new_str[-1::-1]:\n",
    "        print(\"Palindrome\")\n",
    "    else:\n",
    "        print(\"Not a palindrome\")\n",
    "        \n",
    "N1=input(\"Enter a string: \")\n",
    "palindrome(N1)"
   ]
  },
  {
   "cell_type": "code",
   "execution_count": 22,
   "id": "69e67e3c",
   "metadata": {},
   "outputs": [
    {
     "name": "stdout",
     "output_type": "stream",
     "text": [
      "Enter number of days: (4320)\n",
      "11 years, 10 months and 5 days\n"
     ]
    }
   ],
   "source": [
    "# task 8\n",
    "def countDate(N):\n",
    "    a=int(N)\n",
    "    year=a//365\n",
    "    n=a%365\n",
    "    month=n//30\n",
    "    day=n%30\n",
    "    print(\"{} years, {} months and {} days\".format(year,month,day))\n",
    "    \n",
    "N1=input(\"Enter number of days: \")\n",
    "N2=N1.strip(\"()\")\n",
    "\n",
    "countDate(N2)"
   ]
  },
  {
   "cell_type": "code",
   "execution_count": null,
   "id": "55e76457",
   "metadata": {},
   "outputs": [],
   "source": [
    "# task 9\n",
    "string=input(\"Write a paragraph here: \")\n",
    "\n",
    "lst=[x for x in string.split(\".\",\"!\",\"?\")]\n",
    "print(lst)\n",
    "\n",
    "def fix_function():\n",
    "    full_list_of_string=[]\n",
    "    for sentence in lst:\n",
    "        empty_string=\"\"\n",
    "        new_string=sentence.lstrip(' ').rstrip(' ')\n",
    "        for char in new_string:\n",
    "            if new_string.index(char)==0: # if new_string[0]==char:\n",
    "                if 65<=ord(char)<=90:\n",
    "                    empty_string+=char\n",
    "                else:\n",
    "                    empty_string+=chr(ord(char)-32)\n",
    "            else:\n",
    "                empty_string+=char"
   ]
  }
 ],
 "metadata": {
  "kernelspec": {
   "display_name": "Python 3 (ipykernel)",
   "language": "python",
   "name": "python3"
  },
  "language_info": {
   "codemirror_mode": {
    "name": "ipython",
    "version": 3
   },
   "file_extension": ".py",
   "mimetype": "text/x-python",
   "name": "python",
   "nbconvert_exporter": "python",
   "pygments_lexer": "ipython3",
   "version": "3.10.0"
  }
 },
 "nbformat": 4,
 "nbformat_minor": 5
}
