{
 "cells": [
  {
   "cell_type": "code",
   "execution_count": 8,
   "metadata": {
    "id": "zUTYp1vi1eyn"
   },
   "outputs": [
    {
     "name": "stdout",
     "output_type": "stream",
     "text": [
      "Quiz 1 (out of 10): 10\n",
      "Quiz 2 (out of 10): 10\n",
      "Lab (out of 30): 30\n",
      "Mid (out of 20): 20\n",
      "Final (out of 30): 30\n",
      "Total marks: 100\n"
     ]
    }
   ],
   "source": [
    "#task 1\n",
    "class Marks:\n",
    "    def __init__(self, num):\n",
    "        self.mark = num\n",
    "        \n",
    "    def __add__(self, other):\n",
    "        return Marks(self.mark + other.mark)\n",
    "    \n",
    "#=============================================================\n",
    "\n",
    "Q1 = Marks(int(input(\"Quiz 1 (out of 10): \")))\n",
    "Q2 = Marks(int(input(\"Quiz 2 (out of 10): \")))\n",
    "Lab = Marks(int(input(\"Lab (out of 30): \")))\n",
    "Mid = Marks(int(input(\"Mid (out of 20): \")))\n",
    "Final = Marks(int(input(\"Final (out of 30): \")))\n",
    "total = Q1 + Q2 + Lab + Mid + Final\n",
    "print(\"Total marks: {}\".format(total.mark))"
   ]
  },
  {
   "cell_type": "code",
   "execution_count": 13,
   "metadata": {
    "colab": {
     "base_uri": "https://localhost:8080/"
    },
    "id": "keR7GwPiEYCg",
    "outputId": "dc94e391-ae8b-4289-e124-8039f39e27ad"
   },
   "outputs": [
    {
     "name": "stdout",
     "output_type": "stream",
     "text": [
      "====================================\n",
      "Name: Saad Abdullah\n",
      "Department: CSE\n",
      "List of courses\n",
      "====================================\n",
      "CSE 110 Programming Language I\n",
      "CSE 111 Programming Language-II\n",
      "====================================\n",
      "====================================\n",
      "Name: Mumit Khan\n",
      "Department: CSE\n",
      "List of courses\n",
      "====================================\n",
      "CSE 220 Data Structures\n",
      "CSE 221 Algorithms\n",
      "CSE 230 Discrete Mathematics\n",
      "====================================\n",
      "====================================\n",
      "Name: Sadia Kazi\n",
      "Department: CSE\n",
      "List of courses\n",
      "====================================\n",
      "CSE 310 Object Oriented Programming\n",
      "CSE 320 Data Communications\n",
      "CSE 340 Computer Architecture\n",
      "====================================\n"
     ]
    }
   ],
   "source": [
    "#task 2\n",
    "\n",
    "class Teacher:\n",
    "    def __init__(self, name, dept):\n",
    "        self.__name = name\n",
    "        self.__dept = dept\n",
    "        self.__cList = []\n",
    "\n",
    "    def addCourse(self, other):\n",
    "        self.__cList.append(other.title)\n",
    "\n",
    "    def printDetail(self):\n",
    "        print(\"====================================\")\n",
    "        print(\"Name:\", self.__name)\n",
    "        print(\"Department:\", self.__dept)\n",
    "        print(\"List of courses\")\n",
    "        print(\"====================================\")\n",
    "        for x in self.__cList:\n",
    "            print(x)\n",
    "        print(\"====================================\")\n",
    "\n",
    "\n",
    "class Course:\n",
    "    def __init__(self, title):\n",
    "        self.title = title\n",
    "\n",
    "#================================================================\n",
    "\n",
    "t1 = Teacher(\"Saad Abdullah\", \"CSE\")\n",
    "t2 = Teacher(\"Mumit Khan\", \"CSE\")\n",
    "t3 = Teacher(\"Sadia Kazi\", \"CSE\")\n",
    "c1 = Course(\"CSE 110 Programming Language I\")\n",
    "c2 = Course(\"CSE 111 Programming Language-II\")\n",
    "c3 = Course(\"CSE 220 Data Structures\")\n",
    "c4 = Course(\"CSE 221 Algorithms\")\n",
    "c5 = Course(\"CSE 230 Discrete Mathematics\")\n",
    "c6 = Course(\"CSE 310 Object Oriented Programming\")\n",
    "c7 = Course(\"CSE 320 Data Communications\")\n",
    "c8 = Course(\"CSE 340 Computer Architecture\")\n",
    "t1.addCourse(c1)\n",
    "t1.addCourse(c2)\n",
    "t2.addCourse(c3)\n",
    "t2.addCourse(c4)\n",
    "t2.addCourse(c5)\n",
    "t3.addCourse(c6)\n",
    "t3.addCourse(c7)\n",
    "t3.addCourse(c8)\n",
    "t1.printDetail()\n",
    "t2.printDetail()\n",
    "t3.printDetail()"
   ]
  },
  {
   "cell_type": "code",
   "execution_count": 15,
   "metadata": {
    "id": "EVt77JLcKHK5"
   },
   "outputs": [
    {
     "name": "stdout",
     "output_type": "stream",
     "text": [
      "=====================\n",
      "Team: Bangladesh\n",
      "List of Players:\n",
      "['Mashrafi', 'Tamim']\n",
      "=====================\n",
      "=====================\n",
      "Team: Australia\n",
      "List of Players:\n",
      "['Ponting', 'Lee']\n",
      "=====================\n"
     ]
    }
   ],
   "source": [
    "#task 3\n",
    "class Team:\n",
    "    def __init__(self, name=None):\n",
    "        self.__teamname = name\n",
    "        self.__list = []\n",
    "    \n",
    "    def setName(self, name):\n",
    "        self.__teamname = name\n",
    "    \n",
    "    def addPlayer(self, other):\n",
    "        self.__list.append(other.player)\n",
    "    \n",
    "    def printDetail(self):\n",
    "        print(\"=====================\")\n",
    "        print(\"Team:\", self.__teamname)\n",
    "        print(\"List of Players:\")\n",
    "        print(self.__list)\n",
    "        print(\"=====================\")\n",
    "    \n",
    "    \n",
    "class Player:\n",
    "    def __init__(self, player):\n",
    "        self.player = player\n",
    "    \n",
    "#===========================================================\n",
    "\n",
    "b = Team()\n",
    "b.setName('Bangladesh')\n",
    "mashrafi = Player(\"Mashrafi\")\n",
    "b.addPlayer(mashrafi)\n",
    "tamim = Player(\"Tamim\")\n",
    "b.addPlayer(tamim)\n",
    "b.printDetail()\n",
    "a = Team(\"Australia\")\n",
    "ponting = Player(\"Ponting\")\n",
    "a.addPlayer(ponting)\n",
    "lee = Player(\"Lee\")\n",
    "a.addPlayer(lee)\n",
    "a.printDetail()"
   ]
  },
  {
   "cell_type": "code",
   "execution_count": 16,
   "metadata": {
    "colab": {
     "base_uri": "https://localhost:8080/"
    },
    "id": "PtGmy3RP8ivJ",
    "outputId": "7907fee0-2bbf-4f56-a96d-0f241431a6d6"
   },
   "outputs": [
    {
     "name": "stdout",
     "output_type": "stream",
     "text": [
      "First Color: red\n",
      "Second Color: yellow\n",
      "Color formed: Orange\n"
     ]
    }
   ],
   "source": [
    "#task 4\n",
    "class Color:\n",
    "    def __init__(self, color):\n",
    "        self.clr = color\n",
    "\n",
    "    def __add__(self, other):\n",
    "        if (self.clr==\"red\" and other.clr==\"yellow\") or (self.clr==\"yellow\" and other.clr==\"red\"):\n",
    "            obj = Color(\"Orange\")\n",
    "        elif (self.clr==\"red\" and other.clr==\"blue\") or (self.clr==\"blue\" and other.clr==\"red\"):\n",
    "            obj = Color(\"Violet\")\n",
    "        elif (self.clr==\"blue\" and other.clr==\"yellow\") or (self.clr==\"yellow\" and other.clr==\"blue\"):\n",
    "            obj = Color(\"Green\")\n",
    "        return obj\n",
    "    \n",
    "#===================================================================================\n",
    "\n",
    "C1 = Color(input(\"First Color: \").lower())\n",
    "C2 = Color(input(\"Second Color: \").lower())\n",
    "C3 = C1 + C2\n",
    "print(\"Color formed:\", C3.clr)"
   ]
  },
  {
   "cell_type": "code",
   "execution_count": 20,
   "metadata": {
    "id": "faRHN2IEKbeR"
   },
   "outputs": [
    {
     "name": "stdout",
     "output_type": "stream",
     "text": [
      "First circle radius: 4\n",
      "First circle area: 50.26548245743669\n",
      "Second circle radius: 5\n",
      "Second circle area: 78.53981633974483\n",
      "Third circle radius: 9\n",
      "Third circle area: 254.46900494077323\n"
     ]
    }
   ],
   "source": [
    "#task 5\n",
    "import math\n",
    "\n",
    "class Circle:\n",
    "    def __init__(self, value = None):\n",
    "        self.__value = value\n",
    "\n",
    "    def setRadius(self, value):\n",
    "        self.__value = value\n",
    "    \n",
    "    def getRadius(self):\n",
    "        return self.__value\n",
    "    \n",
    "    def area(self):\n",
    "        return (math.pi * self.__value * self.__value)\n",
    "    \n",
    "    def __add__(self, other):\n",
    "        return Circle(self.__value + other.__value)\n",
    "        \n",
    "#===================================================================\n",
    "\n",
    "c1 = Circle(4)\n",
    "print(\"First circle radius:\" , c1.getRadius())\n",
    "print(\"First circle area:\" ,c1.area())\n",
    "c2 = Circle(5)\n",
    "print(\"Second circle radius:\" ,c2.getRadius())\n",
    "print(\"Second circle area:\" ,c2.area())\n",
    "c3 = c1 + c2\n",
    "print(\"Third circle radius:\" ,c3.getRadius())\n",
    "print(\"Third circle area:\" ,c3.area())"
   ]
  },
  {
   "cell_type": "code",
   "execution_count": 17,
   "metadata": {
    "id": "tIGII_j5M74Y"
   },
   "outputs": [
    {
     "name": "stdout",
     "output_type": "stream",
     "text": [
      "First Triangle Base: 10\n",
      "First Triangle Height: 5\n",
      "First Triangle area: 25.0\n",
      "Second Triangle Base: 5\n",
      "Second Triangle Height: 3\n",
      "Second Triangle area: 7.5\n",
      "Third Triangle Base: 5\n",
      "Third Triangle Height: 2\n",
      "Third Triangle area: 5.0\n"
     ]
    }
   ],
   "source": [
    "#task 6\n",
    "class Triangle:\n",
    "    \n",
    "    def __init__(self, base = None, height = None):\n",
    "        self.__base = base\n",
    "        self.__height = height\n",
    "        \n",
    "    def setBase(self, base):\n",
    "        self.__base = base\n",
    "        \n",
    "    def getBase(self):\n",
    "        return self.__base\n",
    "    \n",
    "    def setHeight(self, height):\n",
    "        self.__height = height\n",
    "        \n",
    "    def getHeight(self):\n",
    "        return self.__height\n",
    "    \n",
    "    def area(self):\n",
    "        return (0.5 * self.__base * self.__height)\n",
    "    \n",
    "    def __sub__(self, other):\n",
    "        newbase = self.__base - other.__base\n",
    "        newheight = self.__height - other.__height\n",
    "        return Triangle(newbase, newheight)\n",
    "\n",
    "#============================================================\n",
    "    \n",
    "t1 = Triangle(10, 5)\n",
    "print(\"First Triangle Base:\" , t1.getBase())\n",
    "print(\"First Triangle Height:\" , t1.getHeight())\n",
    "print(\"First Triangle area:\" ,t1.area())\n",
    "\n",
    "t2 = Triangle(5, 3)\n",
    "print(\"Second Triangle Base:\" , t2.getBase())\n",
    "print(\"Second Triangle Height:\" , t2.getHeight())\n",
    "print(\"Second Triangle area:\" ,t2.area())\n",
    "\n",
    "t3 = t1 - t2\n",
    "print(\"Third Triangle Base:\" , t3.getBase())\n",
    "print(\"Third Triangle Height:\" , t3.getHeight())\n",
    "print(\"Third Triangle area:\" ,t3.area())"
   ]
  },
  {
   "cell_type": "code",
   "execution_count": 20,
   "metadata": {
    "id": "YbCxKYicOdhM"
   },
   "outputs": [
    {
     "name": "stdout",
     "output_type": "stream",
     "text": [
      "Doll: Tweety \n",
      "Total price: 2500 taka\n",
      "Thank you!\n",
      "=========================\n",
      "Doll: Daffy Duck \n",
      "Total price: 1800 taka\n",
      "Thank you!\n",
      "=========================\n",
      "Doll: Bugs Bunny \n",
      "Total price: 3000 taka\n",
      "Congratulations! You get the Tweety as a gift!\n",
      "=========================\n",
      "Doll: Porky Pig \n",
      "Total price: 1500 taka\n",
      "Thank you!\n",
      "=========================\n",
      "Dolls: Daffy Duck Bugs Bunny \n",
      "Total price: 4800 taka\n",
      "Congratulations! You get the Tweety as a gift!\n"
     ]
    }
   ],
   "source": [
    "#task 7\n",
    "class Dolls:\n",
    "    def __init__(self, name, price):\n",
    "        self.name = name\n",
    "        self.price = price\n",
    "    \n",
    "    def detail(self):\n",
    "        check = self.name.split()\n",
    "        if len(check) <= 2:\n",
    "            return f\"Doll: {self.name} \\nTotal price: {self.price} taka\"\n",
    "        else:\n",
    "            return f\"Dolls: {self.name} \\nTotal price: {self.price} taka\"\n",
    "        \n",
    "    def __add__(self, other):\n",
    "        newname = self.name + \" \" + other.name\n",
    "        newprice = self.price + other.price\n",
    "        return Dolls(newname, newprice)\n",
    "    \n",
    "    def __gt__(self, other):\n",
    "        if self.price > other.price:\n",
    "            return True\n",
    "        else:\n",
    "            return False\n",
    "        \n",
    "#========================================================================\n",
    "    \n",
    "obj_1 = Dolls(\"Tweety\", 2500)\n",
    "print(obj_1.detail())\n",
    "if obj_1 > obj_1:\n",
    "    print(\"Congratulations! You get the Tweety as a gift!\")\n",
    "else:\n",
    "    print(\"Thank you!\")\n",
    "    \n",
    "print(\"=========================\")\n",
    "obj_2 = Dolls(\"Daffy Duck\", 1800) \n",
    "print(obj_2.detail())\n",
    "if obj_2 > obj_1:\n",
    "    print(\"Congratulations! You get the Tweety as a gift!\")\n",
    "else:\n",
    "    print(\"Thank you!\")\n",
    "    \n",
    "print(\"=========================\")\n",
    "obj_3 = Dolls(\"Bugs Bunny\", 3000)\n",
    "print(obj_3.detail())\n",
    "if obj_3 > obj_1:\n",
    "    print(\"Congratulations! You get the Tweety as a gift!\")\n",
    "else:\n",
    "    print(\"Thank you!\")\n",
    "    \n",
    "print(\"=========================\")\n",
    "obj_4 = Dolls(\"Porky Pig\", 1500)\n",
    "print(obj_4.detail())\n",
    "if obj_4 > obj_1:\n",
    "    print(\"Congratulations! You get the Tweety as a gift!\")\n",
    "else:\n",
    "    print(\"Thank you!\")\n",
    "    \n",
    "print(\"=========================\")\n",
    "obj_5 = obj_2 + obj_3\n",
    "print(obj_5.detail())\n",
    "if obj_5 > obj_1:\n",
    "    print(\"Congratulations! You get the Tweety as a gift!\")\n",
    "else:\n",
    "    print(\"Thank you!\")"
   ]
  },
  {
   "cell_type": "code",
   "execution_count": 1,
   "metadata": {},
   "outputs": [
    {
     "name": "stdout",
     "output_type": "stream",
     "text": [
      "1\n",
      "2\n",
      "3\n",
      "4\n",
      "(-2, -2)\n",
      "(3, 8)\n",
      "The calculated coordinates are NOT the same\n"
     ]
    }
   ],
   "source": [
    "#task 8\n",
    "class Coordinates:\n",
    "    def __init__(self, a, b):\n",
    "        self.first = a\n",
    "        self.second = b\n",
    "        \n",
    "    def __sub__(self, other):\n",
    "        new_first = self.first - other.first\n",
    "        new_second = self.second - other.second\n",
    "        return Coordinates(new_first, new_second)\n",
    "        \n",
    "    def __mul__(self, other):\n",
    "        new_first = self.first * other.first\n",
    "        new_second = self.second * other.second\n",
    "        return Coordinates(new_first, new_second)\n",
    "    \n",
    "    def __eq__(self, other):\n",
    "        if self.first == other.first and self.second == other.second:\n",
    "            return f'The calculated coordinates are the same'\n",
    "        else:\n",
    "            return f'The calculated coordinates are NOT the same'\n",
    "        \n",
    "    def detail(self):\n",
    "        return (self.first, self.second)\n",
    "    \n",
    "#=====================================================================\n",
    "\n",
    "p1 = Coordinates(int(input()),int(input()))\n",
    "p2 = Coordinates(int(input()),int(input()))\n",
    "\n",
    "p4 = p1 - p2\n",
    "print(p4.detail())\n",
    "\n",
    "p5 = p1 * p2\n",
    "print(p5.detail())\n",
    "\n",
    "point_check = (p4 == p5)\n",
    "print(point_check)"
   ]
  },
  {
   "cell_type": "code",
   "execution_count": null,
   "metadata": {},
   "outputs": [],
   "source": []
  }
 ],
 "metadata": {
  "colab": {
   "name": "Assignment 5.ipynb",
   "provenance": []
  },
  "kernelspec": {
   "display_name": "Python 3 (ipykernel)",
   "language": "python",
   "name": "python3"
  },
  "language_info": {
   "codemirror_mode": {
    "name": "ipython",
    "version": 3
   },
   "file_extension": ".py",
   "mimetype": "text/x-python",
   "name": "python",
   "nbconvert_exporter": "python",
   "pygments_lexer": "ipython3",
   "version": "3.10.0"
  }
 },
 "nbformat": 4,
 "nbformat_minor": 1
}
